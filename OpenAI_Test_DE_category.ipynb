{
  "nbformat": 4,
  "nbformat_minor": 0,
  "metadata": {
    "colab": {
      "provenance": [],
      "mount_file_id": "1CpJLCnvcmkwEZEfa6IJp6MsS3HKY-gn7",
      "authorship_tag": "ABX9TyP0uzyg7DyHGaeA1+duelWo",
      "include_colab_link": true
    },
    "kernelspec": {
      "name": "python3",
      "display_name": "Python 3"
    },
    "language_info": {
      "name": "python"
    }
  },
  "cells": [
    {
      "cell_type": "markdown",
      "metadata": {
        "id": "view-in-github",
        "colab_type": "text"
      },
      "source": [
        "<a href=\"https://colab.research.google.com/github/hayeong0206/DataEngineering/blob/main/OpenAI_Test_DE_category.ipynb\" target=\"_parent\"><img src=\"https://colab.research.google.com/assets/colab-badge.svg\" alt=\"Open In Colab\"/></a>"
      ]
    },
    {
      "cell_type": "code",
      "source": [
        "pip install openai"
      ],
      "metadata": {
        "id": "vpmN1cPakU7Z",
        "collapsed": true,
        "colab": {
          "base_uri": "https://localhost:8080/"
        },
        "outputId": "ad8aea67-f361-455f-fef9-06395c983650"
      },
      "execution_count": 1,
      "outputs": [
        {
          "output_type": "stream",
          "name": "stdout",
          "text": [
            "Requirement already satisfied: openai in /usr/local/lib/python3.11/dist-packages (1.76.0)\n",
            "Requirement already satisfied: anyio<5,>=3.5.0 in /usr/local/lib/python3.11/dist-packages (from openai) (4.9.0)\n",
            "Requirement already satisfied: distro<2,>=1.7.0 in /usr/local/lib/python3.11/dist-packages (from openai) (1.9.0)\n",
            "Requirement already satisfied: httpx<1,>=0.23.0 in /usr/local/lib/python3.11/dist-packages (from openai) (0.28.1)\n",
            "Requirement already satisfied: jiter<1,>=0.4.0 in /usr/local/lib/python3.11/dist-packages (from openai) (0.9.0)\n",
            "Requirement already satisfied: pydantic<3,>=1.9.0 in /usr/local/lib/python3.11/dist-packages (from openai) (2.11.3)\n",
            "Requirement already satisfied: sniffio in /usr/local/lib/python3.11/dist-packages (from openai) (1.3.1)\n",
            "Requirement already satisfied: tqdm>4 in /usr/local/lib/python3.11/dist-packages (from openai) (4.67.1)\n",
            "Requirement already satisfied: typing-extensions<5,>=4.11 in /usr/local/lib/python3.11/dist-packages (from openai) (4.13.2)\n",
            "Requirement already satisfied: idna>=2.8 in /usr/local/lib/python3.11/dist-packages (from anyio<5,>=3.5.0->openai) (3.10)\n",
            "Requirement already satisfied: certifi in /usr/local/lib/python3.11/dist-packages (from httpx<1,>=0.23.0->openai) (2025.4.26)\n",
            "Requirement already satisfied: httpcore==1.* in /usr/local/lib/python3.11/dist-packages (from httpx<1,>=0.23.0->openai) (1.0.9)\n",
            "Requirement already satisfied: h11>=0.16 in /usr/local/lib/python3.11/dist-packages (from httpcore==1.*->httpx<1,>=0.23.0->openai) (0.16.0)\n",
            "Requirement already satisfied: annotated-types>=0.6.0 in /usr/local/lib/python3.11/dist-packages (from pydantic<3,>=1.9.0->openai) (0.7.0)\n",
            "Requirement already satisfied: pydantic-core==2.33.1 in /usr/local/lib/python3.11/dist-packages (from pydantic<3,>=1.9.0->openai) (2.33.1)\n",
            "Requirement already satisfied: typing-inspection>=0.4.0 in /usr/local/lib/python3.11/dist-packages (from pydantic<3,>=1.9.0->openai) (0.4.0)\n"
          ]
        }
      ]
    },
    {
      "cell_type": "code",
      "source": [
        "pip install konlpy"
      ],
      "metadata": {
        "id": "kVy3o91kNFdR",
        "collapsed": true,
        "colab": {
          "base_uri": "https://localhost:8080/"
        },
        "outputId": "847c60ad-0858-4d50-8843-81127b4271aa"
      },
      "execution_count": 2,
      "outputs": [
        {
          "output_type": "stream",
          "name": "stdout",
          "text": [
            "Collecting konlpy\n",
            "  Downloading konlpy-0.6.0-py2.py3-none-any.whl.metadata (1.9 kB)\n",
            "Collecting JPype1>=0.7.0 (from konlpy)\n",
            "  Downloading jpype1-1.5.2-cp311-cp311-manylinux_2_17_x86_64.manylinux2014_x86_64.whl.metadata (4.9 kB)\n",
            "Requirement already satisfied: lxml>=4.1.0 in /usr/local/lib/python3.11/dist-packages (from konlpy) (5.4.0)\n",
            "Requirement already satisfied: numpy>=1.6 in /usr/local/lib/python3.11/dist-packages (from konlpy) (2.0.2)\n",
            "Requirement already satisfied: packaging in /usr/local/lib/python3.11/dist-packages (from JPype1>=0.7.0->konlpy) (24.2)\n",
            "Downloading konlpy-0.6.0-py2.py3-none-any.whl (19.4 MB)\n",
            "\u001b[2K   \u001b[90m━━━━━━━━━━━━━━━━━━━━━━━━━━━━━━━━━━━━━━━━\u001b[0m \u001b[32m19.4/19.4 MB\u001b[0m \u001b[31m20.9 MB/s\u001b[0m eta \u001b[36m0:00:00\u001b[0m\n",
            "\u001b[?25hDownloading jpype1-1.5.2-cp311-cp311-manylinux_2_17_x86_64.manylinux2014_x86_64.whl (494 kB)\n",
            "\u001b[2K   \u001b[90m━━━━━━━━━━━━━━━━━━━━━━━━━━━━━━━━━━━━━━━━\u001b[0m \u001b[32m494.1/494.1 kB\u001b[0m \u001b[31m15.1 MB/s\u001b[0m eta \u001b[36m0:00:00\u001b[0m\n",
            "\u001b[?25hInstalling collected packages: JPype1, konlpy\n",
            "Successfully installed JPype1-1.5.2 konlpy-0.6.0\n"
          ]
        }
      ]
    },
    {
      "cell_type": "code",
      "source": [
        "import pandas as pd"
      ],
      "metadata": {
        "id": "Cmrg7mn0okTk"
      },
      "execution_count": 3,
      "outputs": []
    },
    {
      "cell_type": "code",
      "execution_count": 4,
      "metadata": {
        "id": "Nom1TqiXTkXk"
      },
      "outputs": [],
      "source": [
        "import os\n",
        "import openai\n",
        "import pandas as pd"
      ]
    },
    {
      "cell_type": "code",
      "source": [
        "from google.colab import userdata\n",
        "openai.api_key = userdata.get('OPENAI_API_KEY')"
      ],
      "metadata": {
        "id": "nO2nrOUFbHcp"
      },
      "execution_count": 5,
      "outputs": []
    },
    {
      "cell_type": "markdown",
      "source": [
        "**리뷰 읽어오기**"
      ],
      "metadata": {
        "id": "r9ct_2e5CF5r"
      }
    },
    {
      "cell_type": "code",
      "source": [
        "review = [\n",
        "    \"제주에서 휴가 중 운전을 계획하는 분들을 위해 알려드리자면, 무료 주차를 제공하는 호텔이 많지 않으며, 제공하는 호텔 중에서도 주차 공간이 매우 부족한 경우가 많습니다. 앨리스와 트렁크는 property 전역에 꽤 decent한 주차 공간을 가지고 있습니다. 차량 번호 인식 시스템을 통해 관리되어 불편한 주차권이나 칩이 없습니다. 위치도 훌륭하여 면세 쇼핑과 다양한 음식 선택이 도보 거리 내에 있습니다. 서비스 수준도 좋으며, 많은 직원들이 영어를 구사합니다. 객실은 제가 사용하던 것보다 조금 작지만 충분합니다. 인테리어는 레트로 스타일로 가죽 가구가 많아 독특합니다. 정말 마음에 들어서 다음 제주 여행에서도 이 호텔을 반드시 선택할 것입니다\",\n",
        "    \"룸컨디션이..생각보다 그다지 좋지않다.\",\n",
        "    \"침대 속에 다른 이용객의 털이 꽤 있었습니다. 위생이 안좋은 모습을 많이 알려야되는데 사진 첨부가 안되는 점 매우 안타깝네요. 중요한건 침대속에 개미 또는 유사 벌레가 기어다닙니다^^ 최악입니다^^ 방은 매우 협소하며, 등록된 옵션은 사기입니다. 언덕에 있어 짐과 함께 방문하기엔 접근성이 매우 안좋습니다. 칫솔, 치약, 샴푸, 린스 등 숙소에서 제공하는 건 없습니다. 한국 대실 모텔 퀄리티만도 못합니다. 최악입니다^^.\"\n",
        "]"
      ],
      "metadata": {
        "id": "HqnkGku_NVV5"
      },
      "execution_count": 6,
      "outputs": []
    },
    {
      "cell_type": "markdown",
      "source": [
        "**명령 프롬프트**"
      ],
      "metadata": {
        "id": "HRGkyoepfHQj"
      }
    },
    {
      "cell_type": "code",
      "source": [
        "prompt = f\"\"\"\n",
        "입력된 텍스트는 숙소, 식당, 관광지에 대한 리뷰입니다.\n",
        "주어진 리뷰 텍스트에서 주요한 키워드들을 추출하여 정리하세요.\n",
        "각 키워드에 대해 다음 세 가지 정보를 추출해주세요:\n",
        "\n",
        "1. 카테고리명 (예: 방, 음식, 서비스, 위치, 편의시설 등)\n",
        "2. 키워드 (명사, 하나의 단어로 구성)\n",
        "3. 감성 (긍정 / 부정 / 중립)\n",
        "\n",
        "요구사항:\n",
        "- 키워드는 하나의 명사 단어로 구성되어야 합니다.\n",
        "- 의미가 모호하거나 추상적인 단어는 제외합니다.\n",
        "- 감성은 '긍정', '부정', '중립' 중 하나로 판단합니다.\n",
        "- 중요도 순으로 정렬해주세요.\n",
        "\n",
        "출력 형식:\n",
        "[카테고리명]\n",
        "키워드1 - 감성\n",
        "키워드2 - 감성\n",
        "\n",
        "출력 형식에 번호는 필요 없습니다.\n",
        "\"\"\""
      ],
      "metadata": {
        "id": "JYFpSvHMauJW"
      },
      "execution_count": 13,
      "outputs": []
    },
    {
      "cell_type": "code",
      "source": [
        "#문장 분석\n",
        "def analysisFunc(token):\n",
        "    analyze = openai.chat.completions.create (\n",
        "        model=\"gpt-4\",\n",
        "        messages=[\n",
        "            {\"role\": \"system\", \"content\": token},\n",
        "            {\"role\": \"user\", \"content\": prompt}\n",
        "        ],\n",
        "    )\n",
        "    return analyze"
      ],
      "metadata": {
        "id": "YlWSd1xta1Ux"
      },
      "execution_count": 14,
      "outputs": []
    },
    {
      "cell_type": "code",
      "source": [
        "for idx, review_line in enumerate(review, 1):\n",
        "    analysis = analysisFunc(review_line)\n",
        "    output_text = analysis.choices[0].message.content\n",
        "    print(f\"\\n🔹 리뷰 {idx}: {review_line}\")\n",
        "    print(f\"🔑 키워드 추출 결과:\\n{output_text}\")"
      ],
      "metadata": {
        "colab": {
          "base_uri": "https://localhost:8080/"
        },
        "id": "BkgXdEH2a867",
        "outputId": "41528f12-5c9a-4ea9-ee52-de340390d5a9",
        "collapsed": true
      },
      "execution_count": 15,
      "outputs": [
        {
          "output_type": "stream",
          "name": "stdout",
          "text": [
            "\n",
            "🔹 리뷰 1: 제주에서 휴가 중 운전을 계획하는 분들을 위해 알려드리자면, 무료 주차를 제공하는 호텔이 많지 않으며, 제공하는 호텔 중에서도 주차 공간이 매우 부족한 경우가 많습니다. 앨리스와 트렁크는 property 전역에 꽤 decent한 주차 공간을 가지고 있습니다. 차량 번호 인식 시스템을 통해 관리되어 불편한 주차권이나 칩이 없습니다. 위치도 훌륭하여 면세 쇼핑과 다양한 음식 선택이 도보 거리 내에 있습니다. 서비스 수준도 좋으며, 많은 직원들이 영어를 구사합니다. 객실은 제가 사용하던 것보다 조금 작지만 충분합니다. 인테리어는 레트로 스타일로 가죽 가구가 많아 독특합니다. 정말 마음에 들어서 다음 제주 여행에서도 이 호텔을 반드시 선택할 것입니다\n",
            "🔑 키워드 추출 결과:\n",
            "[숙소]\n",
            "호텔 - 긍정\n",
            "주차 - 긍정\n",
            "객실 - 중립\n",
            "\n",
            "[서비스]\n",
            "서비스 - 긍정\n",
            "차량 번호 인식 시스템 - 긍정\n",
            "직원 - 긍정\n",
            "\n",
            "[위치]\n",
            "위치 - 긍정\n",
            "도보 거리 - 긍정\n",
            "\n",
            "[인테리어]\n",
            "인테리어 - 긍정\n",
            "가구 - 중립 \n",
            "\n",
            "[편의시설]\n",
            "주차 공간 - 긍정\n",
            "주차권 - 부정\n",
            "\n",
            "[음식]\n",
            "음식 - 중립\n",
            "\n",
            "[언어]\n",
            "영어 - 긍정\n",
            "\n",
            "🔹 리뷰 2: 룸컨디션이..생각보다 그다지 좋지않다.\n",
            "🔑 키워드 추출 결과:\n",
            "[숙소 상태]\n",
            "룸 컨디션 - 부정\n",
            "\n",
            "🔹 리뷰 3: 침대 속에 다른 이용객의 털이 꽤 있었습니다. 위생이 안좋은 모습을 많이 알려야되는데 사진 첨부가 안되는 점 매우 안타깝네요. 중요한건 침대속에 개미 또는 유사 벌레가 기어다닙니다^^ 최악입니다^^ 방은 매우 협소하며, 등록된 옵션은 사기입니다. 언덕에 있어 짐과 함께 방문하기엔 접근성이 매우 안좋습니다. 칫솔, 치약, 샴푸, 린스 등 숙소에서 제공하는 건 없습니다. 한국 대실 모텔 퀄리티만도 못합니다. 최악입니다^^.\n",
            "🔑 키워드 추출 결과:\n",
            "[위생]\n",
            "털 - 부정\n",
            "벌레 - 부정\n",
            "\n",
            "[편의시설]\n",
            "칫솔 - 부정\n",
            "치약 - 부정\n",
            "샴푸 - 부정\n",
            "린스 - 부정\n",
            "\n",
            "[방]\n",
            "침대 - 부정\n",
            "방 - 부정\n",
            "\n",
            "[위치]\n",
            "언덕 - 부정\n",
            "접근성 - 부정\n",
            "\n",
            "[서비스]\n",
            "옵션 - 부정\n",
            "\n",
            "[품질]\n",
            "퀄리티 - 부정\n"
          ]
        }
      ]
    },
    {
      "cell_type": "markdown",
      "source": [
        "**KeyBERT 알고리즘을 이용해 단어 추출**"
      ],
      "metadata": {
        "id": "2-wnvwGMQMRl"
      }
    },
    {
      "cell_type": "code",
      "source": [
        "pip install keybert"
      ],
      "metadata": {
        "id": "TprMBPmmQUFi"
      },
      "execution_count": null,
      "outputs": []
    },
    {
      "cell_type": "code",
      "source": [
        "from keybert import KeyBERT\n",
        "from konlpy.tag import Okt"
      ],
      "metadata": {
        "id": "A_tF3YqgQX72"
      },
      "execution_count": null,
      "outputs": []
    },
    {
      "cell_type": "code",
      "source": [
        "# 모델 및 형태소 분석기\n",
        "kw_model = KeyBERT()\n",
        "okt = Okt()"
      ],
      "metadata": {
        "id": "r3hGPeqzvxaV"
      },
      "execution_count": null,
      "outputs": []
    },
    {
      "cell_type": "code",
      "source": [
        "# 사용자 정의 불용어\n",
        "custom_stopwords = [\"정도\", \"문제\", \"생각\", \"것\", \"기어\", \"정말\", \"전역\", \"불편\", \"조금\", \"있다\", \"없다\", \"더\", \"좋다\", \"안좋다\", \"사용\", \"제공\"]"
      ],
      "metadata": {
        "id": "1YkH3-XtvmLL"
      },
      "execution_count": null,
      "outputs": []
    },
    {
      "cell_type": "code",
      "source": [
        "# 키워드 추출 함수\n",
        "def extract_keywords_keybert(text, top_n=7):\n",
        "    keywords = kw_model.extract_keywords(\n",
        "        text,\n",
        "        keyphrase_ngram_range=(1, 1),\n",
        "        stop_words='english',\n",
        "        use_maxsum=True,\n",
        "        top_n=top_n\n",
        "    )\n",
        "    noun_keywords = []\n",
        "    for keyword, score in keywords:\n",
        "        pos_tags = okt.pos(keyword, stem=True)\n",
        "        for word, pos in pos_tags:\n",
        "            if pos == 'Noun' and word not in custom_stopwords:\n",
        "                noun_keywords.append(word)\n",
        "                break\n",
        "    return noun_keywords"
      ],
      "metadata": {
        "id": "N1CrLsqRRA_V"
      },
      "execution_count": null,
      "outputs": []
    },
    {
      "cell_type": "code",
      "source": [
        "# 출력\n",
        "for idx, r in enumerate(review, 1):\n",
        "    keywords = extract_keywords_keybert(r)\n",
        "    print(f\"\\n🔹 리뷰 {idx}: {r}\")\n",
        "    print(f\"🔑 키워드: {keywords}\")"
      ],
      "metadata": {
        "colab": {
          "base_uri": "https://localhost:8080/"
        },
        "id": "JchOD2T0eu2A",
        "outputId": "0f5c6a58-55a8-45f4-ad26-c74eb4d7c466"
      },
      "execution_count": null,
      "outputs": [
        {
          "output_type": "stream",
          "name": "stdout",
          "text": [
            "\n",
            "🔹 리뷰 1: 제주에서 휴가 중 운전을 계획하는 분들을 위해 알려드리자면, 무료 주차를 제공하는 호텔이 많지 않으며, 제공하는 호텔 중에서도 주차 공간이 매우 부족한 경우가 많습니다. 앨리스와 트렁크는 property 전역에 꽤 decent한 주차 공간을 가지고 있습니다. 차량 번호 인식 시스템을 통해 관리되어 불편한 주차권이나 칩이 없습니다. 위치도 훌륭하여 면세 쇼핑과 다양한 음식 선택이 도보 거리 내에 있습니다. 서비스 수준도 좋으며, 많은 직원들이 영어를 구사합니다. 객실은 제가 사용하던 것보다 조금 작지만 충분합니다. 인테리어는 레트로 스타일로 가죽 가구가 많아 독특합니다. 정말 마음에 들어서 다음 제주 여행에서도 이 호텔을 반드시 선택할 것입니다\n",
            "🔑 키워드: ['통해', '선택', '쇼핑']\n",
            "\n",
            "🔹 리뷰 2: 룸컨디션이..생각보다 그다지 좋지않다.\n",
            "🔑 키워드: []\n",
            "\n",
            "🔹 리뷰 3: 침대 속에 다른 이용객의 털이 꽤 있었습니다. 위생이 안좋은 모습을 많이 알려야되는데 사진 첨부가 안되는 점 매우 안타깝네요. 중요한건 침대속에 개미 또는 유사 벌레가 기어다닙니다^^ 최악입니다^^ 방은 매우 협소하며, 등록된 옵션은 사기입니다. 언덕에 있어 짐과 함께 방문하기엔 접근성이 매우 안좋습니다. 칫솔, 치약, 샴푸, 린스 등 숙소에서 제공하는 건 없습니다. 한국 대실 모텔 퀄리티만도 못합니다. 최악입니다^^.\n",
            "🔑 키워드: ['언덕', '사진', '모습', '개미', '협소하', '이용']\n"
          ]
        }
      ]
    }
  ]
}