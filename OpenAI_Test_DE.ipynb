{
  "nbformat": 4,
  "nbformat_minor": 0,
  "metadata": {
    "colab": {
      "provenance": [],
      "toc_visible": true,
      "mount_file_id": "1CpJLCnvcmkwEZEfa6IJp6MsS3HKY-gn7",
      "authorship_tag": "ABX9TyM1H+S1yAXvrdKPP+p56XXp",
      "include_colab_link": true
    },
    "kernelspec": {
      "name": "python3",
      "display_name": "Python 3"
    },
    "language_info": {
      "name": "python"
    }
  },
  "cells": [
    {
      "cell_type": "markdown",
      "metadata": {
        "id": "view-in-github",
        "colab_type": "text"
      },
      "source": [
        "<a href=\"https://colab.research.google.com/github/hayeong0206/DataEngineering/blob/main/OpenAI_Test_DE.ipynb\" target=\"_parent\"><img src=\"https://colab.research.google.com/assets/colab-badge.svg\" alt=\"Open In Colab\"/></a>"
      ]
    },
    {
      "cell_type": "code",
      "source": [
        "pip install openai"
      ],
      "metadata": {
        "id": "vpmN1cPakU7Z",
        "collapsed": true
      },
      "execution_count": null,
      "outputs": []
    },
    {
      "cell_type": "code",
      "source": [
        "pip install konlpy"
      ],
      "metadata": {
        "id": "kVy3o91kNFdR",
        "collapsed": true
      },
      "execution_count": null,
      "outputs": []
    },
    {
      "cell_type": "code",
      "source": [
        "import pandas as pd"
      ],
      "metadata": {
        "id": "Cmrg7mn0okTk"
      },
      "execution_count": 4,
      "outputs": []
    },
    {
      "cell_type": "code",
      "execution_count": 5,
      "metadata": {
        "id": "Nom1TqiXTkXk"
      },
      "outputs": [],
      "source": [
        "import os\n",
        "import openai\n",
        "import pandas as pd"
      ]
    },
    {
      "cell_type": "code",
      "source": [
        "from google.colab import userdata\n",
        "openai.api_key = userdata.get('OPENAI_API_KEY')"
      ],
      "metadata": {
        "id": "nO2nrOUFbHcp"
      },
      "execution_count": 6,
      "outputs": []
    },
    {
      "cell_type": "markdown",
      "source": [
        "**리뷰 읽어오기**"
      ],
      "metadata": {
        "id": "r9ct_2e5CF5r"
      }
    },
    {
      "cell_type": "code",
      "source": [
        "review = [\n",
        "    \"제주에서 휴가 중 운전을 계획하는 분들을 위해 알려드리자면, 무료 주차를 제공하는 호텔이 많지 않으며, 제공하는 호텔 중에서도 주차 공간이 매우 부족한 경우가 많습니다. 앨리스와 트렁크는 property 전역에 꽤 decent한 주차 공간을 가지고 있습니다. 차량 번호 인식 시스템을 통해 관리되어 불편한 주차권이나 칩이 없습니다. 위치도 훌륭하여 면세 쇼핑과 다양한 음식 선택이 도보 거리 내에 있습니다. 서비스 수준도 좋으며, 많은 직원들이 영어를 구사합니다. 객실은 제가 사용하던 것보다 조금 작지만 충분합니다. 인테리어는 레트로 스타일로 가죽 가구가 많아 독특합니다. 정말 마음에 들어서 다음 제주 여행에서도 이 호텔을 반드시 선택할 것입니다\",\n",
        "    \"룸컨디션이..생각보다 그다지 좋지않다.\",\n",
        "    \"침대 속에 다른 이용객의 털이 꽤 있었습니다. 위생이 안좋은 모습을 많이 알려야되는데 사진 첨부가 안되는 점 매우 안타깝네요. 중요한건 침대속에 개미 또는 유사 벌레가 기어다닙니다^^ 최악입니다^^ 방은 매우 협소하며, 등록된 옵션은 사기입니다. 언덕에 있어 짐과 함께 방문하기엔 접근성이 매우 안좋습니다. 칫솔, 치약, 샴푸, 린스 등 숙소에서 제공하는 건 없습니다. 한국 대실 모텔 퀄리티만도 못합니다. 최악입니다^^.\"\n",
        "]"
      ],
      "metadata": {
        "id": "HqnkGku_NVV5"
      },
      "execution_count": 8,
      "outputs": []
    },
    {
      "cell_type": "markdown",
      "source": [
        "**명령 프롬프트**"
      ],
      "metadata": {
        "id": "HRGkyoepfHQj"
      }
    },
    {
      "cell_type": "code",
      "source": [
        "prompt = f\"\"\"\n",
        "입력된 텍스트는 숙소, 식당, 관광지에 대한 리뷰입니다.\n",
        "주어진 리뷰 텍스트에서 주요한 키워드들을 추출하여 정리하세요.\n",
        "다음 리뷰를 바탕으로 마케팅 전략 수립에 유용할 핵심 키워드를 5개 추출해주세요.\n",
        "각 키워드에 대해 긍정/부정/중립 중 하나로 감성을 판단해주세요.\n",
        "\n",
        "- 모든 키워드는 하나의 단어로 구성되어야 하며, 명사로만 추출해주세요.\n",
        "- \"생각\", \"정도\", \"문제\"와 같이 의미가 모호하거나 추상적인 단어는 제외해주세요.\n",
        "- \"좋지 않다\", \"별로\", \"괜찮다\" 등 문장 표현은 사용하지 마세요.\n",
        "- 중요도 순으로 정렬해주세요.\n",
        "\n",
        "출력 형식:\n",
        "키워드1 - 긍정\n",
        "키워드2 - 부정\n",
        "\n",
        "\"\"\""
      ],
      "metadata": {
        "id": "JYFpSvHMauJW"
      },
      "execution_count": 18,
      "outputs": []
    },
    {
      "cell_type": "code",
      "source": [
        "#문장 분석\n",
        "def analysisFunc(token):\n",
        "    analyze = openai.chat.completions.create (\n",
        "        model=\"gpt-4\",\n",
        "        messages=[\n",
        "            {\"role\": \"system\", \"content\": token},\n",
        "            {\"role\": \"user\", \"content\": prompt}\n",
        "        ],\n",
        "    )\n",
        "    return analyze"
      ],
      "metadata": {
        "id": "YlWSd1xta1Ux"
      },
      "execution_count": 19,
      "outputs": []
    },
    {
      "cell_type": "code",
      "source": [
        "for idx, review_line in enumerate(review, 1):\n",
        "    analysis = analysisFunc(review_line)\n",
        "    output_text = analysis.choices[0].message.content\n",
        "    print(f\"\\n🔹 리뷰 {idx}: {review_line}\")\n",
        "    print(f\"🔑 키워드 추출 결과:\\n{output_text}\")"
      ],
      "metadata": {
        "colab": {
          "base_uri": "https://localhost:8080/"
        },
        "id": "BkgXdEH2a867",
        "outputId": "062c3a83-598a-4390-c63e-385d7839a568",
        "collapsed": true
      },
      "execution_count": 20,
      "outputs": [
        {
          "output_type": "stream",
          "name": "stdout",
          "text": [
            "\n",
            "🔹 리뷰 1: 제주에서 휴가 중 운전을 계획하는 분들을 위해 알려드리자면, 무료 주차를 제공하는 호텔이 많지 않으며, 제공하는 호텔 중에서도 주차 공간이 매우 부족한 경우가 많습니다. 앨리스와 트렁크는 property 전역에 꽤 decent한 주차 공간을 가지고 있습니다. 차량 번호 인식 시스템을 통해 관리되어 불편한 주차권이나 칩이 없습니다. 위치도 훌륭하여 면세 쇼핑과 다양한 음식 선택이 도보 거리 내에 있습니다. 서비스 수준도 좋으며, 많은 직원들이 영어를 구사합니다. 객실은 제가 사용하던 것보다 조금 작지만 충분합니다. 인테리어는 레트로 스타일로 가죽 가구가 많아 독특합니다. 정말 마음에 들어서 다음 제주 여행에서도 이 호텔을 반드시 선택할 것입니다\n",
            "🔑 키워드 추출 결과:\n",
            "주차 - 긍정  \n",
            "면세쇼핑 - 긍정  \n",
            "음식 - 긍정  \n",
            "서비스 - 긍정  \n",
            "객실 - 중립\n",
            "\n",
            "🔹 리뷰 2: 룸컨디션이..생각보다 그다지 좋지않다.\n",
            "🔑 키워드 추출 결과:\n",
            "룸컨디션 - 부정\n",
            "생각 - 중립\n",
            "\n",
            "🔹 리뷰 3: 침대 속에 다른 이용객의 털이 꽤 있었습니다. 위생이 안좋은 모습을 많이 알려야되는데 사진 첨부가 안되는 점 매우 안타깝네요. 중요한건 침대속에 개미 또는 유사 벌레가 기어다닙니다^^ 최악입니다^^ 방은 매우 협소하며, 등록된 옵션은 사기입니다. 언덕에 있어 짐과 함께 방문하기엔 접근성이 매우 안좋습니다. 칫솔, 치약, 샴푸, 린스 등 숙소에서 제공하는 건 없습니다. 한국 대실 모텔 퀄리티만도 못합니다. 최악입니다^^.\n",
            "🔑 키워드 추출 결과:\n",
            "침대 - 부정\n",
            "위생 - 부정\n",
            "불편 - 부정\n",
            "옵션 - 부정\n",
            "접근성 - 부정\n"
          ]
        }
      ]
    },
    {
      "cell_type": "markdown",
      "source": [
        "**KeyBERT 알고리즘을 이용해 단어 추출**"
      ],
      "metadata": {
        "id": "2-wnvwGMQMRl"
      }
    },
    {
      "cell_type": "code",
      "source": [
        "pip install keybert"
      ],
      "metadata": {
        "id": "TprMBPmmQUFi"
      },
      "execution_count": null,
      "outputs": []
    },
    {
      "cell_type": "code",
      "source": [
        "from keybert import KeyBERT\n",
        "from konlpy.tag import Okt"
      ],
      "metadata": {
        "id": "A_tF3YqgQX72"
      },
      "execution_count": 30,
      "outputs": []
    },
    {
      "cell_type": "code",
      "source": [
        "# 모델 및 형태소 분석기\n",
        "kw_model = KeyBERT()\n",
        "okt = Okt()"
      ],
      "metadata": {
        "id": "r3hGPeqzvxaV"
      },
      "execution_count": 31,
      "outputs": []
    },
    {
      "cell_type": "code",
      "source": [
        "# 사용자 정의 불용어\n",
        "custom_stopwords = [\"정도\", \"문제\", \"생각\", \"것\", \"기어\", \"정말\", \"전역\", \"불편\", \"조금\", \"있다\", \"없다\", \"더\", \"좋다\", \"안좋다\", \"사용\", \"제공\"]"
      ],
      "metadata": {
        "id": "1YkH3-XtvmLL"
      },
      "execution_count": 32,
      "outputs": []
    },
    {
      "cell_type": "code",
      "source": [
        "# 키워드 추출 함수\n",
        "def extract_keywords_keybert(text, top_n=7):\n",
        "    keywords = kw_model.extract_keywords(\n",
        "        text,\n",
        "        keyphrase_ngram_range=(1, 1),\n",
        "        stop_words='english',\n",
        "        use_maxsum=True,\n",
        "        top_n=top_n\n",
        "    )\n",
        "    noun_keywords = []\n",
        "    for keyword, score in keywords:\n",
        "        pos_tags = okt.pos(keyword, stem=True)\n",
        "        for word, pos in pos_tags:\n",
        "            if pos == 'Noun' and word not in custom_stopwords:\n",
        "                noun_keywords.append(word)\n",
        "                break\n",
        "    return noun_keywords"
      ],
      "metadata": {
        "id": "N1CrLsqRRA_V"
      },
      "execution_count": 33,
      "outputs": []
    },
    {
      "cell_type": "code",
      "source": [
        "# 출력\n",
        "for idx, r in enumerate(review, 1):\n",
        "    keywords = extract_keywords_keybert(r)\n",
        "    print(f\"\\n🔹 리뷰 {idx}: {r}\")\n",
        "    print(f\"🔑 키워드: {keywords}\")"
      ],
      "metadata": {
        "colab": {
          "base_uri": "https://localhost:8080/"
        },
        "id": "JchOD2T0eu2A",
        "outputId": "0f5c6a58-55a8-45f4-ad26-c74eb4d7c466"
      },
      "execution_count": 34,
      "outputs": [
        {
          "output_type": "stream",
          "name": "stdout",
          "text": [
            "\n",
            "🔹 리뷰 1: 제주에서 휴가 중 운전을 계획하는 분들을 위해 알려드리자면, 무료 주차를 제공하는 호텔이 많지 않으며, 제공하는 호텔 중에서도 주차 공간이 매우 부족한 경우가 많습니다. 앨리스와 트렁크는 property 전역에 꽤 decent한 주차 공간을 가지고 있습니다. 차량 번호 인식 시스템을 통해 관리되어 불편한 주차권이나 칩이 없습니다. 위치도 훌륭하여 면세 쇼핑과 다양한 음식 선택이 도보 거리 내에 있습니다. 서비스 수준도 좋으며, 많은 직원들이 영어를 구사합니다. 객실은 제가 사용하던 것보다 조금 작지만 충분합니다. 인테리어는 레트로 스타일로 가죽 가구가 많아 독특합니다. 정말 마음에 들어서 다음 제주 여행에서도 이 호텔을 반드시 선택할 것입니다\n",
            "🔑 키워드: ['통해', '선택', '쇼핑']\n",
            "\n",
            "🔹 리뷰 2: 룸컨디션이..생각보다 그다지 좋지않다.\n",
            "🔑 키워드: []\n",
            "\n",
            "🔹 리뷰 3: 침대 속에 다른 이용객의 털이 꽤 있었습니다. 위생이 안좋은 모습을 많이 알려야되는데 사진 첨부가 안되는 점 매우 안타깝네요. 중요한건 침대속에 개미 또는 유사 벌레가 기어다닙니다^^ 최악입니다^^ 방은 매우 협소하며, 등록된 옵션은 사기입니다. 언덕에 있어 짐과 함께 방문하기엔 접근성이 매우 안좋습니다. 칫솔, 치약, 샴푸, 린스 등 숙소에서 제공하는 건 없습니다. 한국 대실 모텔 퀄리티만도 못합니다. 최악입니다^^.\n",
            "🔑 키워드: ['언덕', '사진', '모습', '개미', '협소하', '이용']\n"
          ]
        }
      ]
    }
  ]
}